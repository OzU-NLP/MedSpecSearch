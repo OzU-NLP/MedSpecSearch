{
 "cells": [
  {
   "cell_type": "code",
   "execution_count": 1,
   "metadata": {},
   "outputs": [
    {
     "name": "stderr",
     "output_type": "stream",
     "text": [
      "C:\\ProgramData\\Anaconda3\\lib\\site-packages\\h5py\\__init__.py:36: FutureWarning: Conversion of the second argument of issubdtype from `float` to `np.floating` is deprecated. In future, it will be treated as `np.float64 == np.dtype(float).type`.\n",
      "  from ._conv import register_converters as _register_converters\n",
      "C:\\ProgramData\\Anaconda3\\lib\\site-packages\\gensim\\utils.py:1209: UserWarning: detected Windows; aliasing chunkize to chunkize_serial\n",
      "  warnings.warn(\"detected Windows; aliasing chunkize to chunkize_serial\")\n"
     ]
    }
   ],
   "source": [
    "import Models\n",
    "import EmbedHelper"
   ]
  },
  {
   "cell_type": "raw",
   "metadata": {},
   "source": []
  },
  {
   "cell_type": "code",
   "execution_count": 2,
   "metadata": {},
   "outputs": [
    {
     "data": {
      "text/plain": [
       "{1: 'Fast Text', 2: 'Google News', 3: 'HealthTap', 4: 'Pubmed', 5: 'Glove'}"
      ]
     },
     "execution_count": 2,
     "metadata": {},
     "output_type": "execute_result"
    }
   ],
   "source": [
    "EmbedHelper.EmbeddingHandler.embedDict"
   ]
  },
  {
   "cell_type": "code",
   "execution_count": 3,
   "metadata": {},
   "outputs": [
    {
     "name": "stdout",
     "output_type": "stream",
     "text": [
      "Loading HT Word2Vec\n",
      "Loading Google News\n",
      "Loading Glove\n",
      "Loading Pubmed\n"
     ]
    }
   ],
   "source": [
    "predictor = Models.Predicter()"
   ]
  },
  {
   "cell_type": "code",
   "execution_count": 4,
   "metadata": {},
   "outputs": [
    {
     "data": {
      "text/plain": [
       "{'Uncertainty': 0.79238397,\n",
       " 'Confidence': 0.20761603116989136,\n",
       " 'Prediction': 'Ophthalmology',\n",
       " 'PredictionProb': 0.14976026,\n",
       " 'Probabilities': [['Ophthalmology', 0.14976026],\n",
       "  ['Dermatology', 0.12487636],\n",
       "  ['Obstetrics & Gynecology', 0.09621553],\n",
       "  ['Psychiatry', 0.07916575],\n",
       "  ['Surgery-General', 0.073453285],\n",
       "  ['Radiology-Diagnostic', 0.0707289],\n",
       "  ['Orthopaedic Surgery', 0.07071059],\n",
       "  ['Urology', 0.06773538],\n",
       "  ['Otolaryngology', 0.0675694],\n",
       "  ['Pediatrics', 0.06710459],\n",
       "  ['Neurology', 0.06659799],\n",
       "  ['Internal Medicine', 0.06608195]],\n",
       " 'Length': 22,\n",
       " 'Top3': [['Ophthalmology', 0.14976026],\n",
       "  ['Dermatology', 0.12487636],\n",
       "  ['Obstetrics & Gynecology', 0.09621553]]}"
      ]
     },
     "execution_count": 4,
     "metadata": {},
     "output_type": "execute_result"
    }
   ],
   "source": [
    "gloveResults = predictor.predictModel(\"My sight is blurry and i can not read the text on books clearly, however, i can see distant objects perfectly clear\",\"Glove\")\n",
    "gloveResults"
   ]
  },
  {
   "cell_type": "code",
   "execution_count": 5,
   "metadata": {},
   "outputs": [
    {
     "data": {
      "text/plain": [
       "{'Uncertainty': 0.83307314,\n",
       " 'Confidence': 0.16692686080932617,\n",
       " 'Prediction': 'Psychiatry',\n",
       " 'PredictionProb': 0.13728406,\n",
       " 'Probabilities': [['Psychiatry', 0.13728406],\n",
       "  ['Ophthalmology', 0.12849854],\n",
       "  ['Surgery-General', 0.082053185],\n",
       "  ['Radiology-Diagnostic', 0.07948809],\n",
       "  ['Orthopaedic Surgery', 0.07606352],\n",
       "  ['Dermatology', 0.0752263],\n",
       "  ['Otolaryngology', 0.07116732],\n",
       "  ['Neurology', 0.0706888],\n",
       "  ['Pediatrics', 0.07020905],\n",
       "  ['Urology', 0.06994667],\n",
       "  ['Obstetrics & Gynecology', 0.06994383],\n",
       "  ['Internal Medicine', 0.06943066]],\n",
       " 'Length': 22,\n",
       " 'Top3': [['Psychiatry', 0.13728406],\n",
       "  ['Ophthalmology', 0.12849854],\n",
       "  ['Surgery-General', 0.082053185]]}"
      ]
     },
     "execution_count": 5,
     "metadata": {},
     "output_type": "execute_result"
    }
   ],
   "source": [
    "predictor.predictModel(\"My sight is blurry and i can not read the text on books clearly, however, i can see distant objects perfectly clear\",\"Google News\")"
   ]
  },
  {
   "cell_type": "code",
   "execution_count": 7,
   "metadata": {},
   "outputs": [
    {
     "data": {
      "text/plain": [
       "{'Uncertainty': 0.38827682,\n",
       " 'Confidence': 0.6117231845855713,\n",
       " 'Prediction': 'Ophthalmology',\n",
       " 'PredictionProb': 0.59179306,\n",
       " 'Probabilities': [['Ophthalmology', 0.59179306],\n",
       "  ['Dermatology', 0.075007506],\n",
       "  ['Otolaryngology', 0.035455626],\n",
       "  ['Internal Medicine', 0.03436731],\n",
       "  ['Surgery-General', 0.03379183],\n",
       "  ['Radiology-Diagnostic', 0.033675946],\n",
       "  ['Obstetrics & Gynecology', 0.033377618],\n",
       "  ['Psychiatry', 0.032906976],\n",
       "  ['Urology', 0.032479323],\n",
       "  ['Pediatrics', 0.032421626],\n",
       "  ['Neurology', 0.03236364],\n",
       "  ['Orthopaedic Surgery', 0.032359578]],\n",
       " 'Length': 22,\n",
       " 'Top3': [['Ophthalmology', 0.59179306],\n",
       "  ['Dermatology', 0.075007506],\n",
       "  ['Otolaryngology', 0.035455626]]}"
      ]
     },
     "execution_count": 7,
     "metadata": {},
     "output_type": "execute_result"
    }
   ],
   "source": [
    "predictor.predictModel(\"My sight is blurry and i can not read the text on books clearly, however, i can see distant objects perfectly clear\",\"HealthTap\")"
   ]
  },
  {
   "cell_type": "code",
   "execution_count": 8,
   "metadata": {},
   "outputs": [
    {
     "data": {
      "text/plain": [
       "{'Uncertainty': 0.83421177,\n",
       " 'Confidence': 0.16578823328018188,\n",
       " 'Prediction': 'Psychiatry',\n",
       " 'PredictionProb': 0.16738282,\n",
       " 'Probabilities': [['Psychiatry', 0.16738282],\n",
       "  ['Ophthalmology', 0.08915093],\n",
       "  ['Internal Medicine', 0.080010526],\n",
       "  ['Surgery-General', 0.07966576],\n",
       "  ['Obstetrics & Gynecology', 0.07700626],\n",
       "  ['Dermatology', 0.07657341],\n",
       "  ['Radiology-Diagnostic', 0.07620773],\n",
       "  ['Otolaryngology', 0.07218473],\n",
       "  ['Neurology', 0.07111389],\n",
       "  ['Urology', 0.07039897],\n",
       "  ['Orthopaedic Surgery', 0.070226654],\n",
       "  ['Pediatrics', 0.07007827]],\n",
       " 'Length': 22,\n",
       " 'Top3': [['Psychiatry', 0.16738282],\n",
       "  ['Ophthalmology', 0.08915093],\n",
       "  ['Internal Medicine', 0.080010526]]}"
      ]
     },
     "execution_count": 8,
     "metadata": {},
     "output_type": "execute_result"
    }
   ],
   "source": [
    "predictor.predictModel(\"My sight is blurry and i can not read the text on books clearly, however, i can see distant objects perfectly clear\",\"Pubmed\")"
   ]
  },
  {
   "cell_type": "code",
   "execution_count": null,
   "metadata": {},
   "outputs": [],
   "source": []
  }
 ],
 "metadata": {
  "kernelspec": {
   "display_name": "Python 3",
   "language": "python",
   "name": "python3"
  },
  "language_info": {
   "codemirror_mode": {
    "name": "ipython",
    "version": 3
   },
   "file_extension": ".py",
   "mimetype": "text/x-python",
   "name": "python",
   "nbconvert_exporter": "python",
   "pygments_lexer": "ipython3",
   "version": "3.6.5"
  }
 },
 "nbformat": 4,
 "nbformat_minor": 2
}
